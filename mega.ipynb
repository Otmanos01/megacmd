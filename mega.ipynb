{\rtf1\ansi\ansicpg1252\cocoartf2513
\cocoatextscaling0\cocoaplatform0{\fonttbl\f0\fswiss\fcharset0 Helvetica;}
{\colortbl;\red255\green255\blue255;}
{\*\expandedcolortbl;;}
\margl1440\margr1440\vieww10800\viewh8400\viewkind0
\pard\tx720\tx1440\tx2160\tx2880\tx3600\tx4320\tx5040\tx5760\tx6480\tx7200\tx7920\tx8640\pardirnatural\partightenfactor0

\f0\fs24 \cf0 =====Every Blank line means run in a new cell======\
\
from google.colab import drive\
drive.mount('/content/drive')\
\
\
cd /content/drive/MyDrive/\
mkdir MegaImport\
cd /content/drive/MyDrive/MegaImport\
\
\
!apt install libmms0 libc-ares2 libc6 libssl-dev libgcc1 libmediainfo0v5 libpcre3 libpcrecpp0v5 libstdc++6 libzen0v5 zlib1g apt-transport-https\
\
\
!wget http://security.ubuntu.com/ubuntu/pool/main/o/openssl/libssl1.1_1.1.1f-1ubuntu2.19_amd64.deb\
\
\
!wget https://mega.nz/linux/repo/Debian_9.0/amd64/megacmd-Debian_9.0_amd64.deb\
\
\
!mega-get <Mega Link Here> ./\
===============like    !mega-get https://mega.nz/folder/xxxxxx#xxxxx ./     =================\
}